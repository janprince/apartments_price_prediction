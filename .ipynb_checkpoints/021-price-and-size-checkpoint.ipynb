{
 "cells": [
  {
   "cell_type": "markdown",
   "id": "bbe1de27",
   "metadata": {},
   "source": [
    "# Predicting Price with Size"
   ]
  },
  {
   "cell_type": "code",
   "execution_count": 34,
   "id": "4a6fa492",
   "metadata": {},
   "outputs": [],
   "source": [
    "import pandas as pd\n",
    "import matplotlib.pyplot as plt"
   ]
  },
  {
   "cell_type": "markdown",
   "id": "feb29fa1",
   "metadata": {},
   "source": [
    "In this project, you're working for a client who wants to create a model that can predict the **price** of apartments in the city of Buenos Aires — with a focus on **apartments** that cost **less than $400,000 USD.**"
   ]
  },
  {
   "cell_type": "markdown",
   "id": "86699eb8",
   "metadata": {},
   "source": [
    "## Prepare Data"
   ]
  },
  {
   "cell_type": "markdown",
   "id": "6553d3ad",
   "metadata": {},
   "source": [
    "### Import"
   ]
  },
  {
   "cell_type": "markdown",
   "id": "26645206",
   "metadata": {},
   "source": [
    "In the previous project, we cleaned our data files one-by-one. This isn't an issue when you're working with just three files, but imagine if you had several hundred! One way to automate the data importing and cleaning process is by writing a function. This will make sure that all our data undergoes the same process, and that our analysis is easily reproducible — something that's very important in science in general and data science in particular.\n",
    "\n",
    "1. Add to your wrangle function so that the DataFrame it returns **only includes apartments** in Buenos Aires (\"Capital Federal\") that cost **less than $400,000 USD**. Then recreate df from data/buenos-aires-real-estate-1.csv by re-running the cells above. - A way to to create subsets from a larger dataset is through masking. Masks are ways to filter out the data you're not interested in so that you can focus on the data you are.\n",
    "\n",
    "2. All observations should fall between the `0.1` and `0.9` quantiles for `\"surface_covered_in_m2\"`."
   ]
  },
  {
   "cell_type": "code",
   "execution_count": 43,
   "id": "f137ba21-6883-4c6a-8222-82e7589da338",
   "metadata": {},
   "outputs": [],
   "source": [
    "def wrangle(filepath):\n",
    "    \n",
    "    # read csv file\n",
    "    df = pd.read_csv(filepath)\n",
    "    \n",
    "    # subset data: apartments in \"capital federal\", Less than 400,000\n",
    "    mask_ba = df['place_with_parent_names'].str.contains(\"Capital Federal\")\n",
    "    mask_apt = df['property_type'] == 'apartment'\n",
    "    mask_price = df[\"price_aprox_usd\"] < 400_000\n",
    "    \n",
    "    # Once we have our masks, we can use it to select all the rows from df that evaluate as True for mask_ba & mask_apt & mask_price.\n",
    "    df = df[mask_ba & mask_apt & mask_price]\n",
    "    \n",
    "    # subset data: removw outliers for 'surface_covered_in_m2'\n",
    "    low, high = df[\"surface_covered_in_m2\"].quantile([0.1, 0.9])\n",
    "    mask_area = df[\"surface_covered_in_m2\"].between(low, high)\n",
    "    df = df[mask_area]\n",
    "    \n",
    "    return df"
   ]
  },
  {
   "cell_type": "markdown",
   "id": "32ca311c-0cd5-486e-bb81-2961f6237ad5",
   "metadata": {},
   "source": [
    "use the wrangle function to create a dataframe"
   ]
  },
  {
   "cell_type": "code",
   "execution_count": 36,
   "id": "fd8d639d-1287-4120-b119-fa7f58406306",
   "metadata": {},
   "outputs": [
    {
     "name": "stdout",
     "output_type": "stream",
     "text": [
      "df shape:  (1245, 16)\n"
     ]
    },
    {
     "data": {
      "text/html": [
       "<div>\n",
       "<style scoped>\n",
       "    .dataframe tbody tr th:only-of-type {\n",
       "        vertical-align: middle;\n",
       "    }\n",
       "\n",
       "    .dataframe tbody tr th {\n",
       "        vertical-align: top;\n",
       "    }\n",
       "\n",
       "    .dataframe thead th {\n",
       "        text-align: right;\n",
       "    }\n",
       "</style>\n",
       "<table border=\"1\" class=\"dataframe\">\n",
       "  <thead>\n",
       "    <tr style=\"text-align: right;\">\n",
       "      <th></th>\n",
       "      <th>operation</th>\n",
       "      <th>property_type</th>\n",
       "      <th>place_with_parent_names</th>\n",
       "      <th>lat-lon</th>\n",
       "      <th>price</th>\n",
       "      <th>currency</th>\n",
       "      <th>price_aprox_local_currency</th>\n",
       "      <th>price_aprox_usd</th>\n",
       "      <th>surface_total_in_m2</th>\n",
       "      <th>surface_covered_in_m2</th>\n",
       "      <th>price_usd_per_m2</th>\n",
       "      <th>price_per_m2</th>\n",
       "      <th>floor</th>\n",
       "      <th>rooms</th>\n",
       "      <th>expenses</th>\n",
       "      <th>properati_url</th>\n",
       "    </tr>\n",
       "  </thead>\n",
       "  <tbody>\n",
       "    <tr>\n",
       "      <th>4</th>\n",
       "      <td>sell</td>\n",
       "      <td>apartment</td>\n",
       "      <td>|Argentina|Capital Federal|Chacarita|</td>\n",
       "      <td>-34.5846508988,-58.4546932614</td>\n",
       "      <td>129000.0</td>\n",
       "      <td>USD</td>\n",
       "      <td>1955949.60</td>\n",
       "      <td>129000.0</td>\n",
       "      <td>76.0</td>\n",
       "      <td>70.0</td>\n",
       "      <td>1697.368421</td>\n",
       "      <td>1842.857143</td>\n",
       "      <td>NaN</td>\n",
       "      <td>NaN</td>\n",
       "      <td>NaN</td>\n",
       "      <td>http://chacarita.properati.com.ar/10qlv_venta_...</td>\n",
       "    </tr>\n",
       "    <tr>\n",
       "      <th>9</th>\n",
       "      <td>sell</td>\n",
       "      <td>apartment</td>\n",
       "      <td>|Argentina|Capital Federal|Villa Luro|</td>\n",
       "      <td>-34.6389789,-58.500115</td>\n",
       "      <td>87000.0</td>\n",
       "      <td>USD</td>\n",
       "      <td>1319128.80</td>\n",
       "      <td>87000.0</td>\n",
       "      <td>48.0</td>\n",
       "      <td>42.0</td>\n",
       "      <td>1812.500000</td>\n",
       "      <td>2071.428571</td>\n",
       "      <td>NaN</td>\n",
       "      <td>NaN</td>\n",
       "      <td>NaN</td>\n",
       "      <td>http://villa-luro.properati.com.ar/12m82_venta...</td>\n",
       "    </tr>\n",
       "    <tr>\n",
       "      <th>29</th>\n",
       "      <td>sell</td>\n",
       "      <td>apartment</td>\n",
       "      <td>|Argentina|Capital Federal|Caballito|</td>\n",
       "      <td>-34.615847,-58.459957</td>\n",
       "      <td>118000.0</td>\n",
       "      <td>USD</td>\n",
       "      <td>1789163.20</td>\n",
       "      <td>118000.0</td>\n",
       "      <td>NaN</td>\n",
       "      <td>54.0</td>\n",
       "      <td>NaN</td>\n",
       "      <td>2185.185185</td>\n",
       "      <td>NaN</td>\n",
       "      <td>2.0</td>\n",
       "      <td>NaN</td>\n",
       "      <td>http://caballito.properati.com.ar/11wqh_venta_...</td>\n",
       "    </tr>\n",
       "    <tr>\n",
       "      <th>40</th>\n",
       "      <td>sell</td>\n",
       "      <td>apartment</td>\n",
       "      <td>|Argentina|Capital Federal|Constitución|</td>\n",
       "      <td>-34.6252219,-58.3823825</td>\n",
       "      <td>57000.0</td>\n",
       "      <td>USD</td>\n",
       "      <td>864256.80</td>\n",
       "      <td>57000.0</td>\n",
       "      <td>42.0</td>\n",
       "      <td>42.0</td>\n",
       "      <td>1357.142857</td>\n",
       "      <td>1357.142857</td>\n",
       "      <td>5.0</td>\n",
       "      <td>2.0</td>\n",
       "      <td>364</td>\n",
       "      <td>http://constitucion.properati.com.ar/k2f0_vent...</td>\n",
       "    </tr>\n",
       "    <tr>\n",
       "      <th>41</th>\n",
       "      <td>sell</td>\n",
       "      <td>apartment</td>\n",
       "      <td>|Argentina|Capital Federal|Once|</td>\n",
       "      <td>-34.6106102,-58.4125107</td>\n",
       "      <td>90000.0</td>\n",
       "      <td>USD</td>\n",
       "      <td>1364616.00</td>\n",
       "      <td>90000.0</td>\n",
       "      <td>57.0</td>\n",
       "      <td>50.0</td>\n",
       "      <td>1578.947368</td>\n",
       "      <td>1800.000000</td>\n",
       "      <td>NaN</td>\n",
       "      <td>3.0</td>\n",
       "      <td>450</td>\n",
       "      <td>http://once.properati.com.ar/suwa_venta_depart...</td>\n",
       "    </tr>\n",
       "    <tr>\n",
       "      <th>...</th>\n",
       "      <td>...</td>\n",
       "      <td>...</td>\n",
       "      <td>...</td>\n",
       "      <td>...</td>\n",
       "      <td>...</td>\n",
       "      <td>...</td>\n",
       "      <td>...</td>\n",
       "      <td>...</td>\n",
       "      <td>...</td>\n",
       "      <td>...</td>\n",
       "      <td>...</td>\n",
       "      <td>...</td>\n",
       "      <td>...</td>\n",
       "      <td>...</td>\n",
       "      <td>...</td>\n",
       "      <td>...</td>\n",
       "    </tr>\n",
       "    <tr>\n",
       "      <th>8585</th>\n",
       "      <td>sell</td>\n",
       "      <td>apartment</td>\n",
       "      <td>|Argentina|Capital Federal|Recoleta|</td>\n",
       "      <td>-34.592822,-58.3847959</td>\n",
       "      <td>143100.0</td>\n",
       "      <td>USD</td>\n",
       "      <td>2169739.44</td>\n",
       "      <td>143100.0</td>\n",
       "      <td>41.0</td>\n",
       "      <td>37.0</td>\n",
       "      <td>3490.243902</td>\n",
       "      <td>3867.567568</td>\n",
       "      <td>2.0</td>\n",
       "      <td>NaN</td>\n",
       "      <td>NaN</td>\n",
       "      <td>http://recoleta.properati.com.ar/12v6p_venta_d...</td>\n",
       "    </tr>\n",
       "    <tr>\n",
       "      <th>8590</th>\n",
       "      <td>sell</td>\n",
       "      <td>apartment</td>\n",
       "      <td>|Argentina|Capital Federal|Almagro|</td>\n",
       "      <td>-34.6045547,-58.4182063</td>\n",
       "      <td>119000.0</td>\n",
       "      <td>USD</td>\n",
       "      <td>1804325.60</td>\n",
       "      <td>119000.0</td>\n",
       "      <td>46.0</td>\n",
       "      <td>41.0</td>\n",
       "      <td>2586.956522</td>\n",
       "      <td>2902.439024</td>\n",
       "      <td>NaN</td>\n",
       "      <td>NaN</td>\n",
       "      <td>NaN</td>\n",
       "      <td>http://almagro.properati.com.ar/ea4d_venta_dep...</td>\n",
       "    </tr>\n",
       "    <tr>\n",
       "      <th>8593</th>\n",
       "      <td>sell</td>\n",
       "      <td>apartment</td>\n",
       "      <td>|Argentina|Capital Federal|Barracas|</td>\n",
       "      <td>-34.6240024,-58.3905883</td>\n",
       "      <td>62000.0</td>\n",
       "      <td>USD</td>\n",
       "      <td>940068.80</td>\n",
       "      <td>62000.0</td>\n",
       "      <td>NaN</td>\n",
       "      <td>43.0</td>\n",
       "      <td>NaN</td>\n",
       "      <td>1441.860465</td>\n",
       "      <td>NaN</td>\n",
       "      <td>2.0</td>\n",
       "      <td>NaN</td>\n",
       "      <td>http://barracas.properati.com.ar/oc61_venta_de...</td>\n",
       "    </tr>\n",
       "    <tr>\n",
       "      <th>8601</th>\n",
       "      <td>sell</td>\n",
       "      <td>apartment</td>\n",
       "      <td>|Argentina|Capital Federal|San Nicolás|</td>\n",
       "      <td>-34.601455,-58.378132</td>\n",
       "      <td>125000.0</td>\n",
       "      <td>USD</td>\n",
       "      <td>1895300.00</td>\n",
       "      <td>125000.0</td>\n",
       "      <td>NaN</td>\n",
       "      <td>70.0</td>\n",
       "      <td>NaN</td>\n",
       "      <td>1785.714286</td>\n",
       "      <td>2.0</td>\n",
       "      <td>3.0</td>\n",
       "      <td>NaN</td>\n",
       "      <td>http://san-nicolas.properati.com.ar/1004t_vent...</td>\n",
       "    </tr>\n",
       "    <tr>\n",
       "      <th>8604</th>\n",
       "      <td>sell</td>\n",
       "      <td>apartment</td>\n",
       "      <td>|Argentina|Capital Federal|Boedo|</td>\n",
       "      <td>NaN</td>\n",
       "      <td>78000.0</td>\n",
       "      <td>USD</td>\n",
       "      <td>1182667.20</td>\n",
       "      <td>78000.0</td>\n",
       "      <td>52.0</td>\n",
       "      <td>52.0</td>\n",
       "      <td>1500.000000</td>\n",
       "      <td>1500.000000</td>\n",
       "      <td>NaN</td>\n",
       "      <td>NaN</td>\n",
       "      <td>NaN</td>\n",
       "      <td>http://boedo.properati.com.ar/eh9b_venta_depar...</td>\n",
       "    </tr>\n",
       "  </tbody>\n",
       "</table>\n",
       "<p>1245 rows × 16 columns</p>\n",
       "</div>"
      ],
      "text/plain": [
       "     operation property_type                   place_with_parent_names  \\\n",
       "4         sell     apartment     |Argentina|Capital Federal|Chacarita|   \n",
       "9         sell     apartment    |Argentina|Capital Federal|Villa Luro|   \n",
       "29        sell     apartment     |Argentina|Capital Federal|Caballito|   \n",
       "40        sell     apartment  |Argentina|Capital Federal|Constitución|   \n",
       "41        sell     apartment          |Argentina|Capital Federal|Once|   \n",
       "...        ...           ...                                       ...   \n",
       "8585      sell     apartment      |Argentina|Capital Federal|Recoleta|   \n",
       "8590      sell     apartment       |Argentina|Capital Federal|Almagro|   \n",
       "8593      sell     apartment      |Argentina|Capital Federal|Barracas|   \n",
       "8601      sell     apartment   |Argentina|Capital Federal|San Nicolás|   \n",
       "8604      sell     apartment         |Argentina|Capital Federal|Boedo|   \n",
       "\n",
       "                            lat-lon     price currency  \\\n",
       "4     -34.5846508988,-58.4546932614  129000.0      USD   \n",
       "9            -34.6389789,-58.500115   87000.0      USD   \n",
       "29            -34.615847,-58.459957  118000.0      USD   \n",
       "40          -34.6252219,-58.3823825   57000.0      USD   \n",
       "41          -34.6106102,-58.4125107   90000.0      USD   \n",
       "...                             ...       ...      ...   \n",
       "8585         -34.592822,-58.3847959  143100.0      USD   \n",
       "8590        -34.6045547,-58.4182063  119000.0      USD   \n",
       "8593        -34.6240024,-58.3905883   62000.0      USD   \n",
       "8601          -34.601455,-58.378132  125000.0      USD   \n",
       "8604                            NaN   78000.0      USD   \n",
       "\n",
       "      price_aprox_local_currency  price_aprox_usd  surface_total_in_m2  \\\n",
       "4                     1955949.60         129000.0                 76.0   \n",
       "9                     1319128.80          87000.0                 48.0   \n",
       "29                    1789163.20         118000.0                  NaN   \n",
       "40                     864256.80          57000.0                 42.0   \n",
       "41                    1364616.00          90000.0                 57.0   \n",
       "...                          ...              ...                  ...   \n",
       "8585                  2169739.44         143100.0                 41.0   \n",
       "8590                  1804325.60         119000.0                 46.0   \n",
       "8593                   940068.80          62000.0                  NaN   \n",
       "8601                  1895300.00         125000.0                  NaN   \n",
       "8604                  1182667.20          78000.0                 52.0   \n",
       "\n",
       "      surface_covered_in_m2  price_usd_per_m2  price_per_m2  floor  rooms  \\\n",
       "4                      70.0       1697.368421   1842.857143    NaN    NaN   \n",
       "9                      42.0       1812.500000   2071.428571    NaN    NaN   \n",
       "29                     54.0               NaN   2185.185185    NaN    2.0   \n",
       "40                     42.0       1357.142857   1357.142857    5.0    2.0   \n",
       "41                     50.0       1578.947368   1800.000000    NaN    3.0   \n",
       "...                     ...               ...           ...    ...    ...   \n",
       "8585                   37.0       3490.243902   3867.567568    2.0    NaN   \n",
       "8590                   41.0       2586.956522   2902.439024    NaN    NaN   \n",
       "8593                   43.0               NaN   1441.860465    NaN    2.0   \n",
       "8601                   70.0               NaN   1785.714286    2.0    3.0   \n",
       "8604                   52.0       1500.000000   1500.000000    NaN    NaN   \n",
       "\n",
       "     expenses                                      properati_url  \n",
       "4         NaN  http://chacarita.properati.com.ar/10qlv_venta_...  \n",
       "9         NaN  http://villa-luro.properati.com.ar/12m82_venta...  \n",
       "29        NaN  http://caballito.properati.com.ar/11wqh_venta_...  \n",
       "40        364  http://constitucion.properati.com.ar/k2f0_vent...  \n",
       "41        450  http://once.properati.com.ar/suwa_venta_depart...  \n",
       "...       ...                                                ...  \n",
       "8585      NaN  http://recoleta.properati.com.ar/12v6p_venta_d...  \n",
       "8590      NaN  http://almagro.properati.com.ar/ea4d_venta_dep...  \n",
       "8593      NaN  http://barracas.properati.com.ar/oc61_venta_de...  \n",
       "8601      NaN  http://san-nicolas.properati.com.ar/1004t_vent...  \n",
       "8604      NaN  http://boedo.properati.com.ar/eh9b_venta_depar...  \n",
       "\n",
       "[1245 rows x 16 columns]"
      ]
     },
     "execution_count": 36,
     "metadata": {},
     "output_type": "execute_result"
    }
   ],
   "source": [
    "df = wrangle(\"data/buenos-aires-real-estate-1.csv\")\n",
    "print(\"df shape: \", df.shape)\n",
    "df"
   ]
  },
  {
   "cell_type": "markdown",
   "id": "8148afcf-a783-4595-9bf8-404ea63c98b1",
   "metadata": {},
   "source": [
    "## Explore"
   ]
  },
  {
   "cell_type": "markdown",
   "id": "d204e990-40d7-4023-83ee-1bc25df28e3a",
   "metadata": {},
   "source": [
    "We saw in the previous project that property size is an important factor in determining price. With that in mind, let's look at the distribution of apartment sizes in our dataset."
   ]
  },
  {
   "cell_type": "markdown",
   "id": "bfe1110b-f2c2-48a7-9c06-4884964ce587",
   "metadata": {
    "tags": []
   },
   "source": [
    "### Histogram"
   ]
  },
  {
   "cell_type": "markdown",
   "id": "1db99a20-704f-468b-8cf0-cbfb4fc32138",
   "metadata": {},
   "source": [
    "Create a histogram of `\"surface_covered_in_m2\"`. Make sure that the x-axis has the label `\"Area [sq meters]\"` and the plot has the title `\"Distribution of Apartment Sizes\"`."
   ]
  },
  {
   "cell_type": "code",
   "execution_count": 37,
   "id": "cee4c535-57a3-4a9a-ae64-2a8edb86bd03",
   "metadata": {},
   "outputs": [
    {
     "data": {
      "text/plain": [
       "Text(0, 0.5, 'Distribution of Apartment Sizes')"
      ]
     },
     "execution_count": 37,
     "metadata": {},
     "output_type": "execute_result"
    },
    {
     "data": {
      "image/png": "[encoded data removed]",
      "text/plain": [
       "<Figure size 432x288 with 1 Axes>"
      ]
     },
     "metadata": {
      "needs_background": "light"
     },
     "output_type": "display_data"
    }
   ],
   "source": [
    "plt.hist(df[\"surface_covered_in_m2\"])\n",
    "plt.xlabel(\"Area [sq meters]\")\n",
    "plt.ylabel(\"Distribution of Apartment Sizes\")"
   ]
  },
  {
   "cell_type": "code",
   "execution_count": 38,
   "id": "f3f40adc-76e9-4786-b8ef-f27b9993a793",
   "metadata": {},
   "outputs": [
    {
     "data": {
      "text/plain": [
       "count    1245.000000\n",
       "mean       56.142169\n",
       "std        17.994502\n",
       "min        32.000000\n",
       "25%        42.000000\n",
       "50%        51.000000\n",
       "75%        70.000000\n",
       "max       100.000000\n",
       "Name: surface_covered_in_m2, dtype: float64"
      ]
     },
     "execution_count": 38,
     "metadata": {},
     "output_type": "execute_result"
    }
   ],
   "source": [
    "df[\"surface_covered_in_m2\"].describe()"
   ]
  },
  {
   "cell_type": "markdown",
   "id": "61822556-3911-4319-9edb-b3873e589fd7",
   "metadata": {},
   "source": [
    "The describe statistics above confirm what we suspected. While most of the apartments in our dataset are smaller that 73 square meters, there are some that are several thousand square meters. The best thing to do is to change our `wrangle` function and remove them from the dataset. \n",
    "\n",
    "    count     1551.000000\n",
    "    mean       100.742747\n",
    "    std       1573.992927\n",
    "    min          0.000000\n",
    "    25%         39.000000\n",
    "    50%         51.000000\n",
    "    75%         74.500000\n",
    "    max      62034.000000\n",
    "    Name: surface_covered_in_m2, dtype: float64\n",
    "    \n",
    "Add to your wrangle function so that it removes observations that are outliers in the `\"surface_covered_in_m2\"` column. Specifically, all observations should fall between the `0.1` and `0.9` quantiles for `\"surface_covered_in_m2\"`.\n",
    "\n",
    "When you're done, don't forget to rerun all the cells above. Note how your histogram changes now that there are no outliers. At this point, `df` should have no more than 1,343 observations."
   ]
  },
  {
   "cell_type": "markdown",
   "id": "b63b6791-837d-4848-8195-34cdbf51106d",
   "metadata": {},
   "source": [
    "### Scatter Plot"
   ]
  },
  {
   "cell_type": "markdown",
   "id": "29cf489f-d959-49a7-b601-e6eeae415476",
   "metadata": {},
   "source": [
    "Create a scatter plot that shows price (`\"price_aprox_usd\"`) vs area (`\"surface_covered_in_m2\"`) in our dataset. Make sure to label your x-axis `\"Area [sq meters]\"` and your y-axis `\"Price [USD]\"`."
   ]
  },
  {
   "cell_type": "code",
   "execution_count": 39,
   "id": "c5ae9637-bc91-47ae-910d-f1e7fa28c875",
   "metadata": {},
   "outputs": [
    {
     "data": {
      "text/plain": [
       "Text(0, 0.5, 'Price [USD]')"
      ]
     },
     "execution_count": 39,
     "metadata": {},
     "output_type": "execute_result"
    },
    {
     "data": {
      "image/png": "[encoded data removed]",
      "text/plain": [
       "<Figure size 432x288 with 1 Axes>"
      ]
     },
     "metadata": {
      "needs_background": "light"
     },
     "output_type": "display_data"
    }
   ],
   "source": [
    "plt.scatter(df[\"surface_covered_in_m2\"], df[\"price_aprox_usd\"])\n",
    "plt.xlabel(\"Area [sq meters]\")\n",
    "plt.ylabel(\"Price [USD]\")"
   ]
  },
  {
   "cell_type": "markdown",
   "id": "18384079-7a3d-45de-b716-d97fef5fc16c",
   "metadata": {},
   "source": [
    "This plot suggests that there's a moderate positive correlation between apartment price and size. This means that if  thing we want to predict is price, size will be a good feature to include. "
   ]
  },
  {
   "cell_type": "markdown",
   "id": "4cc0df1b-4737-4d0b-bc73-8a185bc9bfef",
   "metadata": {},
   "source": [
    "## Split"
   ]
  },
  {
   "cell_type": "markdown",
   "id": "503b534f-03a2-4bde-96eb-b4b2c9cf6f9a",
   "metadata": {},
   "source": [
    "A key part in any model-building project is separating your **target** (the thing you want to predict) from your **features** (the information your model will use to make its predictions). Since this is our first model, we'll use just one feature: apartment size.\n",
    "\n",
    "Create the feature matrix named `X_train`, which you'll use to train your model. It should contain one feature only: `[\"surface_covered_in_m2\"]`. Remember that your feature matrix should always be two-dimensional. "
   ]
  },
  {
   "cell_type": "code",
   "execution_count": 40,
   "id": "99766676-cffd-4b76-9a89-5e5a37ecb0aa",
   "metadata": {},
   "outputs": [],
   "source": [
    "# Create a DataFrame from a Series in pandas.\n",
    "\n",
    "features = [\"surface_covered_in_m2\"]      \n",
    "X_train = df[features]"
   ]
  },
  {
   "cell_type": "markdown",
   "id": "5ce94934-d3d5-44ce-a03e-f2a7127e31ff",
   "metadata": {},
   "source": [
    "Create the target vector named `y_train`, which you'll use to train your model. Your target should be `\"price_aprox_usd\"`. Remember that, in most cases, your target vector should be **one-dimensional**."
   ]
  },
  {
   "cell_type": "code",
   "execution_count": 41,
   "id": "396f3dfc-9548-4f95-bec5-941dff772971",
   "metadata": {},
   "outputs": [],
   "source": [
    "# Select a Series from a DataFrame in pandas.\n",
    "\n",
    "target = \"price_aprox_usd\"\n",
    "y_train = df[target]"
   ]
  },
  {
   "cell_type": "code",
   "execution_count": 42,
   "id": "7932d7f8-bf0c-4148-adb5-80ce7bbecd86",
   "metadata": {},
   "outputs": [
    {
     "name": "stdout",
     "output_type": "stream",
     "text": [
      "(1245, 1) (1245,)\n"
     ]
    }
   ],
   "source": [
    "print(X_train.shape, y_train.shape)"
   ]
  }
 ],
 "metadata": {
  "kernelspec": {
   "display_name": "Python 3 (ipykernel)",
   "language": "python",
   "name": "python3"
  },
  "language_info": {
   "codemirror_mode": {
    "name": "ipython",
    "version": 3
   },
   "file_extension": ".py",
   "mimetype": "text/x-python",
   "name": "python",
   "nbconvert_exporter": "python",
   "pygments_lexer": "ipython3",
   "version": "3.9.6"
  }
 },
 "nbformat": 4,
 "nbformat_minor": 5
}
